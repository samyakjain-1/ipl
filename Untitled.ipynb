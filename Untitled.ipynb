{
 "cells": [
  {
   "cell_type": "markdown",
   "id": "2d29a7f2-9d4e-4f5f-b640-a4547e58dc6e",
   "metadata": {
    "panel-layout": {
     "height": 51.140625,
     "visible": true,
     "width": 100
    }
   },
   "source": [
    "**IPL Dataset**"
   ]
  },
  {
   "cell_type": "code",
   "execution_count": 39,
   "id": "9b2f67b1-3edb-463a-b180-d4a1eebfcc3c",
   "metadata": {},
   "outputs": [],
   "source": [
    "import pandas as pd\n",
    "\n",
    "matches = pd.read_csv(\"matches.csv\")\n",
    "deliveries = pd.read_csv(\"deliveries.csv\")\n",
    "# print(df.tail(3))"
   ]
  },
  {
   "cell_type": "markdown",
   "id": "7712a184-9726-46ab-98ff-1da27f3945a6",
   "metadata": {},
   "source": [
    "Reading Data"
   ]
  },
  {
   "cell_type": "code",
   "execution_count": 65,
   "id": "6bcd62b9-736f-4257-b7a1-e8f1a1e65af4",
   "metadata": {},
   "outputs": [
    {
     "data": {
      "text/plain": [
       "Index(['id', 'season', 'city', 'date', 'match_type', 'player_of_match',\n",
       "       'venue', 'team1', 'team2', 'toss_winner', 'toss_decision', 'winner',\n",
       "       'result', 'result_margin', 'target_runs', 'target_overs', 'super_over',\n",
       "       'method', 'umpire1', 'umpire2'],\n",
       "      dtype='object')"
      ]
     },
     "execution_count": 65,
     "metadata": {},
     "output_type": "execute_result"
    }
   ],
   "source": [
    "#read headers\n",
    "matches.columns\n",
    "\n",
    "#read each column\n",
    "#print(matches[['season', 'team1', 'team2']])\n",
    "\n",
    "#read each row\n",
    "#print(matches.iloc[0])\n",
    "# for index, row in matches.iterrows():\n",
    "#     print(index, row)\n",
    "\n",
    "# matches.loc[matches['player_of_match'] == 'V Kohli']\n",
    "\n",
    "#read a specific location(R,C)\n",
    "#print(matches.iloc[1,1])\n",
    "\n"
   ]
  },
  {
   "cell_type": "code",
   "execution_count": null,
   "id": "2a9d4226-583b-41dc-b942-d9801c17976b",
   "metadata": {},
   "outputs": [],
   "source": []
  },
  {
   "cell_type": "code",
   "execution_count": null,
   "id": "eaccc01c-2e6f-4ca6-abfa-e12a59e512ab",
   "metadata": {},
   "outputs": [],
   "source": []
  }
 ],
 "metadata": {
  "kernelspec": {
   "display_name": "Python 3 (ipykernel)",
   "language": "python",
   "name": "python3"
  },
  "language_info": {
   "codemirror_mode": {
    "name": "ipython",
    "version": 3
   },
   "file_extension": ".py",
   "mimetype": "text/x-python",
   "name": "python",
   "nbconvert_exporter": "python",
   "pygments_lexer": "ipython3",
   "version": "3.12.2"
  },
  "panel-cell-order": [
   "2d29a7f2-9d4e-4f5f-b640-a4547e58dc6e",
   "a83ca670-8c98-4f02-9414-79725a0a6dc0"
  ]
 },
 "nbformat": 4,
 "nbformat_minor": 5
}
